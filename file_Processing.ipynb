{
 "cells": [
  {
   "cell_type": "markdown",
   "id": "9586dc42",
   "metadata": {},
   "source": [
    "Processes a text file that contains student information with their grades. Each line of the text file has three elements: the student's first name, the student's last name, and the number of points the student received in classes. Elements are separated with \"|\". Each student can appear more than once within the text file.\n",
    "\n",
    "The program must:\n",
    "- Ask the user for the name of the teacher file to process.\n",
    "- Read the content of the file and add the points that each student received\n",
    "- Print a report ordered by screen"
   ]
  },
  {
   "cell_type": "code",
   "execution_count": 16,
   "id": "c92bd26e",
   "metadata": {},
   "outputs": [
    {
     "name": "stdout",
     "output_type": "stream",
     "text": [
      "Enter the file name: Notes\n",
      "\n",
      "\n",
      "Andrew Cox 1.5\n",
      "\n",
      "Anna Boleyn 15.5\n",
      "\n",
      "John Smith 7.0\n",
      "\n"
     ]
    }
   ],
   "source": [
    "from os import strerror\n",
    "\n",
    "# Receive the name of the file through the console\n",
    "file_name = input(\"Enter the file name: \")\n",
    "\n",
    "# An empty dictionary is created to store the student's name and their total grade\n",
    "student_notes = {}\n",
    "\n",
    "try:\n",
    "    \n",
    "    # Creates the stream\n",
    "    stream_in = open(file_name + \".txt\", \"rt\")\n",
    "\n",
    "    # The first line of the file is assigned to the variable line\n",
    "    line = stream_in.readline()\n",
    "    while line != \"\":\n",
    "\n",
    "        # Remove line break (\\n) from the current line of the file\n",
    "        rows = line.rstrip(\"/\\n\")\n",
    "\n",
    "        # Divides each line of the file by \"|\" and rows becomes a list of elements of type strings\n",
    "        rows = rows.split(sep=\"|\")\n",
    "\n",
    "        # Joins the first and last names (first and second elements of the list) in the variable student_name\n",
    "        student_name = \" \".join(rows[0:2])\n",
    "\n",
    "        # Assigns the note that each record contains in the variable student_note\n",
    "        student_note = float(rows[-1])\n",
    "\n",
    "        # Checks if that student contained in the current line of the file is already\n",
    "        # saved in the dictionary, if it is not there, add it and add the note, if it is there, add the note to the one\n",
    "        # you already have.\n",
    "        if student_name not in student_notes.keys():\n",
    "            student_notes[student_name] = student_note\n",
    "        else:\n",
    "            student_notes[student_name] += student_note\n",
    "\n",
    "        # The next line of the file is assigned to the variable line\n",
    "        line = stream_in.readline()\n",
    "        \n",
    "    # Closes the stream\n",
    "    stream_in.close()\n",
    "\n",
    "    # Sorts the dictionary by key (first and last name) from A to Z\n",
    "    for key, value in sorted(student_notes.items(), key=lambda item: item[0]):\n",
    "\n",
    "        # Print the result on the screen\n",
    "        text = key + \" \" + str(value) + \"\\n\"\n",
    "        print(text)\n",
    "\n",
    "except IOError as e:\n",
    "    print(\"Se produjo un error de E/S:\", strerror(e.errno))"
   ]
  }
 ],
 "metadata": {
  "kernelspec": {
   "display_name": "Python 3 (ipykernel)",
   "language": "python",
   "name": "python3"
  },
  "language_info": {
   "codemirror_mode": {
    "name": "ipython",
    "version": 3
   },
   "file_extension": ".py",
   "mimetype": "text/x-python",
   "name": "python",
   "nbconvert_exporter": "python",
   "pygments_lexer": "ipython3",
   "version": "3.10.9"
  }
 },
 "nbformat": 4,
 "nbformat_minor": 5
}
